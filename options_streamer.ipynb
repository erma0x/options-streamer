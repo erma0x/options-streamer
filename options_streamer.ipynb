{
 "cells": [
  {
   "cell_type": "code",
   "execution_count": 13,
   "metadata": {},
   "outputs": [],
   "source": [
    "import sys\n",
    "import numpy as np\n",
    "import pandas as pd\n",
    "import matplotlib.pyplot as plt\n",
    "from scipy.stats import gaussian_kde"
   ]
  },
  {
   "cell_type": "markdown",
   "metadata": {},
   "source": [
    "#### Options\n",
    "- For call options, the strike price is where the security can be bought by the option holder;\n",
    "- For put options, the strike price is the price at which the security can be sold. "
   ]
  },
  {
   "cell_type": "code",
   "execution_count": 14,
   "metadata": {},
   "outputs": [
    {
     "data": {
      "text/html": [
       "<div>\n",
       "<style scoped>\n",
       "    .dataframe tbody tr th:only-of-type {\n",
       "        vertical-align: middle;\n",
       "    }\n",
       "\n",
       "    .dataframe tbody tr th {\n",
       "        vertical-align: top;\n",
       "    }\n",
       "\n",
       "    .dataframe thead th {\n",
       "        text-align: right;\n",
       "    }\n",
       "</style>\n",
       "<table border=\"1\" class=\"dataframe\">\n",
       "  <thead>\n",
       "    <tr style=\"text-align: right;\">\n",
       "      <th></th>\n",
       "      <th>Strike</th>\n",
       "      <th>Moneyness</th>\n",
       "      <th>Bid</th>\n",
       "      <th>Midpoint</th>\n",
       "      <th>Ask</th>\n",
       "      <th>Last</th>\n",
       "      <th>Change</th>\n",
       "      <th>%Chg</th>\n",
       "      <th>Volume</th>\n",
       "      <th>Open Int</th>\n",
       "      <th>Volume Open Interest Ratio</th>\n",
       "      <th>IV</th>\n",
       "      <th>Type</th>\n",
       "      <th>Time</th>\n",
       "      <th>Avg IV</th>\n",
       "    </tr>\n",
       "  </thead>\n",
       "  <tbody>\n",
       "    <tr>\n",
       "      <th>4,800.00</th>\n",
       "      <td>+21.51%</td>\n",
       "      <td>843.80</td>\n",
       "      <td>846.65</td>\n",
       "      <td>849.50</td>\n",
       "      <td>894.50</td>\n",
       "      <td>0.0</td>\n",
       "      <td>unch</td>\n",
       "      <td>0</td>\n",
       "      <td>3</td>\n",
       "      <td>160.32%</td>\n",
       "      <td>Put</td>\n",
       "      <td>09/06/22</td>\n",
       "      <td>13.20%</td>\n",
       "      <td>width: 1%</td>\n",
       "      <td>width: 1%</td>\n",
       "    </tr>\n",
       "    <tr>\n",
       "      <th>5,000.00</th>\n",
       "      <td>+26.58%</td>\n",
       "      <td>1,045.40</td>\n",
       "      <td>1,048.30</td>\n",
       "      <td>1,051.20</td>\n",
       "      <td>0.00</td>\n",
       "      <td>0.0</td>\n",
       "      <td>unch</td>\n",
       "      <td>0</td>\n",
       "      <td>0</td>\n",
       "      <td>125.97%</td>\n",
       "      <td>Put</td>\n",
       "      <td>NaN</td>\n",
       "      <td>13.20%</td>\n",
       "      <td>width: 1%</td>\n",
       "      <td>width: 1%</td>\n",
       "    </tr>\n",
       "    <tr>\n",
       "      <th>5,200.00</th>\n",
       "      <td>+31.64%</td>\n",
       "      <td>1,244.00</td>\n",
       "      <td>1,247.35</td>\n",
       "      <td>1,250.70</td>\n",
       "      <td>0.00</td>\n",
       "      <td>0.0</td>\n",
       "      <td>unch</td>\n",
       "      <td>0</td>\n",
       "      <td>0</td>\n",
       "      <td>235.95%</td>\n",
       "      <td>Put</td>\n",
       "      <td>NaN</td>\n",
       "      <td>13.20%</td>\n",
       "      <td>width: 1%</td>\n",
       "      <td>width: 1%</td>\n",
       "    </tr>\n",
       "  </tbody>\n",
       "</table>\n",
       "</div>"
      ],
      "text/plain": [
       "           Strike Moneyness       Bid  Midpoint     Ask  Last Change %Chg  \\\n",
       "4,800.00  +21.51%    843.80    846.65    849.50  894.50   0.0   unch    0   \n",
       "5,000.00  +26.58%  1,045.40  1,048.30  1,051.20    0.00   0.0   unch    0   \n",
       "5,200.00  +31.64%  1,244.00  1,247.35  1,250.70    0.00   0.0   unch    0   \n",
       "\n",
       "         Volume Open Int Volume Open Interest Ratio        IV    Type  \\\n",
       "4,800.00      3  160.32%                        Put  09/06/22  13.20%   \n",
       "5,000.00      0  125.97%                        Put       NaN  13.20%   \n",
       "5,200.00      0  235.95%                        Put       NaN  13.20%   \n",
       "\n",
       "               Time     Avg IV  \n",
       "4,800.00  width: 1%  width: 1%  \n",
       "5,000.00  width: 1%  width: 1%  \n",
       "5,200.00  width: 1%  width: 1%  "
      ]
     },
     "execution_count": 14,
     "metadata": {},
     "output_type": "execute_result"
    }
   ],
   "source": [
    "FILE_NAME = \"data/$spx-options-exp-2022-09-07-weekly-show-all-stacked-09-07-2022.csv\"\n",
    "\n",
    "df = pd.read_csv(FILE_NAME)\n",
    "df.drop(df.tail(1).index,inplace=True)\n",
    "df.tail(3)"
   ]
  },
  {
   "cell_type": "code",
   "execution_count": 15,
   "metadata": {},
   "outputs": [],
   "source": [
    "open_int_call = df['Open Int'].where(df['Volume Open Interest Ratio']=='Call')\n",
    "open_int_put = df['Open Int'].where(df['Volume Open Interest Ratio']=='Put')\n",
    "\n",
    "\n",
    "df.index = df.index.str.replace(',','').astype(float)\n",
    "df.index = df.index.where( df.index > 3000.0).where(df.index < 4500.0 )\n",
    "\n",
    "# open_int_put =\n",
    "strike_call = df.index.where(df['Volume Open Interest Ratio']=='Call')\n",
    "strike_put = df.index.where(df['Volume Open Interest Ratio']=='Put')"
   ]
  },
  {
   "cell_type": "code",
   "execution_count": 16,
   "metadata": {},
   "outputs": [
    {
     "name": "stderr",
     "output_type": "stream",
     "text": [
      "/tmp/ipykernel_509936/2133080149.py:3: FutureWarning: The default value of regex will change from True to False in a future version. In addition, single character regular expressions will *not* be treated as literal strings when regex=True.\n",
      "  return data.str.replace('+','').astype(float)#.map({'%':' '})#\n"
     ]
    }
   ],
   "source": [
    "def process_open_interest(data):\n",
    "    data = data.str.replace('%','')\n",
    "    return data.str.replace('+','').astype(float)#.map({'%':' '})#\n",
    "\n",
    "open_int_call = process_open_interest(open_int_call)\n",
    "open_int_put = process_open_interest(open_int_put)"
   ]
  },
  {
   "cell_type": "code",
   "execution_count": 17,
   "metadata": {},
   "outputs": [
    {
     "name": "stdout",
     "output_type": "stream",
     "text": [
      "350 350\n",
      "(350,) (350,)\n"
     ]
    }
   ],
   "source": [
    "print( open_int_put.size, strike_put.size )\n",
    "print( open_int_call.shape, strike_call.shape )"
   ]
  },
  {
   "cell_type": "code",
   "execution_count": 18,
   "metadata": {},
   "outputs": [
    {
     "data": {
      "text/plain": [
       "Text(0, 0.5, 'number of open contracts')"
      ]
     },
     "execution_count": 18,
     "metadata": {},
     "output_type": "execute_result"
    },
    {
     "data": {
      "image/png": "[encoded data removed]",
      "text/plain": [
       "<Figure size 640x480 with 1 Axes>"
      ]
     },
     "metadata": {},
     "output_type": "display_data"
    }
   ],
   "source": [
    "plt.step(strike_put, open_int_put )\n",
    "plt.step(strike_call, open_int_call )\n",
    "plt.suptitle('Options streamer',size=8)\n",
    "\n",
    "plt.title(f'''SNP500 options open contracts \n",
    "with expiration date of 09-07-2022''',size=9)\n",
    "plt.legend(['put','call'])\n",
    "plt.xlabel('strike price')\n",
    "plt.ylabel('number of open contracts')"
   ]
  }
 ],
 "metadata": {
  "kernelspec": {
   "display_name": "Python 3.8.10 64-bit",
   "language": "python",
   "name": "python3"
  },
  "language_info": {
   "codemirror_mode": {
    "name": "ipython",
    "version": 3
   },
   "file_extension": ".py",
   "mimetype": "text/x-python",
   "name": "python",
   "nbconvert_exporter": "python",
   "pygments_lexer": "ipython3",
   "version": "3.10.4"
  },
  "orig_nbformat": 4,
  "vscode": {
   "interpreter": {
    "hash": "916dbcbb3f70747c44a77c7bcd40155683ae19c65e1c03b4aa3499c5328201f1"
   }
  }
 },
 "nbformat": 4,
 "nbformat_minor": 2
}
